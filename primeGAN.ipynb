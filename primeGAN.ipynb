{
 "cells": [
  {
   "cell_type": "code",
   "execution_count": 1,
   "id": "198fef30",
   "metadata": {},
   "outputs": [],
   "source": [
    "#load libraries\n",
    "import torch, math, copy\n",
    "import numpy as np\n",
    "import matplotlib.pyplot as plt\n",
    "import seaborn as sns\n",
    "import torchvision\n",
    "from torchvision import datasets, transforms\n",
    "import torch.nn as nn\n",
    "import pandas as pd\n",
    "import torch.nn.init as init\n",
    "import torch.nn.functional as F\n",
    "from scipy.stats import kde\n",
    "import matplotlib.pyplot as plt\n",
    "from tqdm import tqdm\n",
    "import random"
   ]
  },
  {
   "cell_type": "code",
   "execution_count": 2,
   "id": "73dfda90",
   "metadata": {},
   "outputs": [],
   "source": [
    "#basic function to tell whether a number is prime or not\n",
    "def isPrime(n):\n",
    "    key = 0\n",
    "    for j in range(2, n):\n",
    "        if n % j == 0:\n",
    "            key += 1\n",
    "    return key == 0"
   ]
  },
  {
   "cell_type": "code",
   "execution_count": 3,
   "id": "474f8cfb",
   "metadata": {},
   "outputs": [
    {
     "name": "stderr",
     "output_type": "stream",
     "text": [
      "100%|████████████████████████████████████| 99998/99998 [01:54<00:00, 871.27it/s]\n"
     ]
    }
   ],
   "source": [
    "#generating training data\n",
    "data = []\n",
    "for x in tqdm(range(2,100000)):\n",
    "    if isPrime(x):\n",
    "        data.append([x])"
   ]
  },
  {
   "cell_type": "code",
   "execution_count": 6,
   "id": "815003aa",
   "metadata": {},
   "outputs": [],
   "source": [
    "#sample from training data\n",
    "def sample(n):\n",
    "    s = random.sample(data, n)\n",
    "    return s"
   ]
  },
  {
   "cell_type": "code",
   "execution_count": 12,
   "id": "e8091c42",
   "metadata": {},
   "outputs": [],
   "source": [
    "def dataset(n):\n",
    "    df = torch.tensor([sample(n)]).float()\n",
    "    return df"
   ]
  },
  {
   "cell_type": "code",
   "execution_count": 24,
   "id": "351eb10d",
   "metadata": {},
   "outputs": [],
   "source": [
    "#implementation of GAN network\n",
    "class Generator(nn.Module):\n",
    "    def __init__(self):\n",
    "        super(Generator, self).__init__()\n",
    "        self.network = nn.Sequential(\n",
    "            nn.Linear(1, 50),\n",
    "            nn.ReLU(),\n",
    "            nn.Linear(50, 50),\n",
    "            nn.ReLU(),\n",
    "            nn.Linear(50, 1)\n",
    "        )\n",
    "\n",
    "    def decode(self, input):\n",
    "        out = self.network(input)\n",
    "        return out\n",
    "\n",
    "    def forward(self, n):\n",
    "        z = torch.randint(1, 1100, (1,)).float()\n",
    "        samples = self.decode(z)\n",
    "        samples = samples.unsqueeze(0)\n",
    "        for i in range(n-1):\n",
    "            z = torch.randint(1, 1100, (1,)).float()\n",
    "            z = self.decode(z)\n",
    "            z = z.unsqueeze(0)\n",
    "            samples = torch.cat((samples, z), 0)\n",
    "        return (samples.unsqueeze(0)).abs().round()"
   ]
  },
  {
   "cell_type": "code",
   "execution_count": 25,
   "id": "0dff5174",
   "metadata": {},
   "outputs": [],
   "source": [
    "class Discriminator(nn.Module):\n",
    "    def __init__(self):\n",
    "        super(Discriminator, self).__init__()\n",
    "\n",
    "        self.network = nn.Sequential(\n",
    "            nn.Linear(1, 50),\n",
    "            nn.ReLU(),\n",
    "            nn.Linear(50, 50),\n",
    "            nn.ReLU(),\n",
    "            nn.Linear(50, 1)\n",
    "        )\n",
    "\n",
    "    def forward(self, input):\n",
    "        out = self.network(input)\n",
    "        out = nn.Sigmoid()(out)\n",
    "        return out"
   ]
  },
  {
   "cell_type": "code",
   "execution_count": 26,
   "id": "86ccd954",
   "metadata": {},
   "outputs": [],
   "source": [
    "generator = Generator()\n",
    "gopt = torch.optim.Adam(generator.parameters(), lr=5e-4, betas=(0.5, 0.999))\n",
    "discriminator = Discriminator()\n",
    "dopt = torch.optim.Adam(discriminator.parameters(), lr=5e-4, betas=(0.5, 0.999))\n",
    "criterion = torch.nn.BCEWithLogitsLoss()"
   ]
  },
  {
   "cell_type": "markdown",
   "id": "7e931376",
   "metadata": {},
   "source": [
    "Experiments and results:"
   ]
  },
  {
   "cell_type": "code",
   "execution_count": 30,
   "id": "0f4bb4c4",
   "metadata": {},
   "outputs": [
    {
     "name": "stderr",
     "output_type": "stream",
     "text": [
      "100%|██████████████████████████████████| 120000/120000 [16:41<00:00, 119.81it/s]"
     ]
    },
    {
     "name": "stdout",
     "output_type": "stream",
     "text": [
      "Accuracy of generator:  0.28500000000000003\n"
     ]
    },
    {
     "name": "stderr",
     "output_type": "stream",
     "text": [
      "\n"
     ]
    }
   ],
   "source": [
    "for i in tqdm(range(120000)):\n",
    "    \n",
    "    # Generate real data and labels\n",
    "    s = dataset(128)\n",
    "    real_labels = torch.ones((1, 128, 1))\n",
    "    fake_labels = torch.zeros((1, 128, 1))\n",
    "\n",
    "    # Generate fake data\n",
    "    fake_data = generator(128)\n",
    "    \n",
    "    #Train G\n",
    "    gopt.zero_grad()\n",
    "    g_fake_output = discriminator(fake_data)\n",
    "    g_loss = criterion(g_fake_output, real_labels)\n",
    "    g_loss.backward()\n",
    "    gopt.step()\n",
    "    \n",
    "    #Train D\n",
    "    \n",
    "    dopt.zero_grad()\n",
    "    d_real_output = discriminator(s)\n",
    "    d_real_loss = criterion(d_real_output, real_labels)\n",
    "    d_fake_output = discriminator(fake_data.detach()) \n",
    "    d_fake_loss = criterion(d_fake_output, fake_labels)\n",
    "    d_loss = d_real_loss + d_fake_loss\n",
    "    d_loss.backward()\n",
    "    dopt.step()\n",
    "    \n",
    "\n",
    "    if i == 119999:\n",
    "        checkpoint = generator(200)\n",
    "        error = 0\n",
    "        for x in checkpoint.view(-1):\n",
    "            if isPrime(int(x)) == False:\n",
    "                error += 1\n",
    "        print('Accuracy of generator: ', 1 - error/200)"
   ]
  },
  {
   "cell_type": "code",
   "execution_count": 31,
   "id": "38709a01",
   "metadata": {},
   "outputs": [],
   "source": [
    "torch.save(generator.state_dict(), 'my_model.pth')"
   ]
  },
  {
   "cell_type": "code",
   "execution_count": 61,
   "id": "c4499dcc",
   "metadata": {},
   "outputs": [
    {
     "name": "stdout",
     "output_type": "stream",
     "text": [
      "Accuracy of generator:  0.36\n"
     ]
    }
   ],
   "source": [
    "# Load the state dictionary\n",
    "generator.load_state_dict(torch.load('my_model.pth'))\n",
    "\n",
    "# Set the model to evaluation mode\n",
    "generator.eval()\n",
    "checkpoint = generator(200)\n",
    "error = 0\n",
    "for x in checkpoint.view(-1):\n",
    "    if isPrime(int(x)) == False:\n",
    "        error += 1\n",
    "print('Accuracy of generator: ', 1 - error/200)"
   ]
  }
 ],
 "metadata": {
  "kernelspec": {
   "display_name": "Python 3 (ipykernel)",
   "language": "python",
   "name": "python3"
  },
  "language_info": {
   "codemirror_mode": {
    "name": "ipython",
    "version": 3
   },
   "file_extension": ".py",
   "mimetype": "text/x-python",
   "name": "python",
   "nbconvert_exporter": "python",
   "pygments_lexer": "ipython3",
   "version": "3.11.4"
  }
 },
 "nbformat": 4,
 "nbformat_minor": 5
}
